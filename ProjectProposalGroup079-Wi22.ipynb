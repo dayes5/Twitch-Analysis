{
 "cells": [
  {
   "cell_type": "markdown",
   "metadata": {},
   "source": [
    "# COGS 108 - Final Project Proposal"
   ]
  },
  {
   "cell_type": "markdown",
   "metadata": {},
   "source": [
    "# Names\n",
    "\n",
    "- Arushri Girish\n",
    "- Ronaldo Garcia-hernandez\n",
    "- Matthew Bernard\n",
    "- Daisy Ye\n",
    "- Jocelyn Quiroz"
   ]
  },
  {
   "cell_type": "markdown",
   "metadata": {},
   "source": [
    "# Research Question"
   ]
  },
  {
   "cell_type": "markdown",
   "metadata": {},
   "source": [
    "Was there a significant correlation between the length of streams and the number of views, new followers, and type of subscriber, which a streamer gained before and after the pandemic?"
   ]
  },
  {
   "cell_type": "markdown",
   "metadata": {},
   "source": [
    "## Background and Prior Work"
   ]
  },
  {
   "cell_type": "markdown",
   "metadata": {},
   "source": [
    " \n",
    "When the COVID-19 pandemic hit, many went into lockdown in an effort to limit the spread of the disease. When in-person social gatherings were limited, people instead looked to connect with others online “more than ever — for example social media engagement increased 61 percent during the first wave of the pandemic.” For many people in the midst of quarantine and lockdown, social media “has become a lifeline to the outside world” and an “important crutch for those looking for connection.” (Penn Medicine)\n",
    " \n",
    "The pandemic suddenly and drastically changed the way we interact with each other. People started to rely heavily on media technology more than ever to remain connected. This switch to online platforms as the primary source of staying in touch impacted the way we think of relationships. Our relationships to media figures likely became stronger with both real life relationships and parasocial relationships occurring over the screen and therefore parasocial relationships strongly resembling our personal relationships. (Psypost) \n",
    " \n",
    "The global pandemic during 2020 prompted a huge wave of people with other interests to take up live-streaming and/or watch streamers. The senior vice president of content at Twitch said “People are looking for a way to connect and when someone finds a community on Twitch, you become a regular viewer”(WSJ article).\n",
    "\n",
    "\n",
    "References (include links):\n",
    "- 1)https://www.psypost.org/2021/10/longitudinal-study-shows-how-parasocial-relationships-changed-over-time-during-the-covid-19-pandemic-61924\n",
    "- 2)https://www.wsj.com/articles/everyone-is-a-live-streamer-in-covid-19-era-11596965400\n",
    "- 3)https://www.pennmedicine.org/news/news-blog/2021/april/instagram-vs-reality-the-pandemics-impact-on-social-media-and-mental-health"
   ]
  },
  {
   "cell_type": "markdown",
   "metadata": {},
   "source": [
    "# Hypothesis\n"
   ]
  },
  {
   "cell_type": "markdown",
   "metadata": {},
   "source": [
    "We hypothesize that the Covid-19 pandemic has increased activity among the top 100 Twitch streamers by views. We also hypothesize there is a positive correlation between the length of streams and the number of views, followers, and subscribers. \n"
   ]
  },
  {
   "cell_type": "markdown",
   "metadata": {},
   "source": [
    "# Data"
   ]
  },
  {
   "cell_type": "markdown",
   "metadata": {},
   "source": [
    "The ideal dataset will contain the following: length of streams, active days, type of stream, average viewers, viewers gained, total followers, active followers, and total viewers. This data can be collected using Twitch’s API in python and stored in a dataFrame. Also, we will be using a website known as “Twitchtracker”, dedicated to collecting streamers data and displaying them on their website. We will be looking particularly at the top 10 streamers before COVID and the top 10 streamers during COVID and comparing their statistics. \n"
   ]
  },
  {
   "cell_type": "markdown",
   "metadata": {},
   "source": [
    "# Ethics & Privacy"
   ]
  },
  {
   "cell_type": "markdown",
   "metadata": {},
   "source": [
    "Most concerns of privacy are eliminated because the data collected from Twitch is public data. Also, we will be eliminating the streamers username and replacing it with a unique identifier. In addition, due to the nature of the way the data was collected through Twitch API, there is no way data could be influenced by bias."
   ]
  },
  {
   "cell_type": "markdown",
   "metadata": {},
   "source": [
    "# Team Expectations "
   ]
  },
  {
   "cell_type": "markdown",
   "metadata": {},
   "source": [
    "* *Each individual should do their assigned parts*\n",
    "* *Tasks should be finished on time and according to our timeline*\n",
    "* *There should be clear communication and conflict resolution between all group members*\n"
   ]
  },
  {
   "cell_type": "markdown",
   "metadata": {},
   "source": [
    "# Project Timeline Proposal"
   ]
  },
  {
   "cell_type": "markdown",
   "metadata": {},
   "source": [
    "| Meeting Date  | Meeting Time| Completed Before Meeting  | Discuss at Meeting |\n",
    "|---|---|---|---|\n",
    "| 1/28  |  4 PM |  Brainstorm project ideas | Finish Project Proposal, Assign group members to tasks   |\n",
    "| 2/10  | 4 PM  | Import and Wrangle Data, Investigate Data ad EDA  | Discuss and overlook wrangled data, explore analysis, Checkpoint 1   |\n",
    "| 2/24  | 4 PM  | Finish Wrangling and EDA | Checkpoint 2   |\n",
    "| 3/11  | 4 PM  | Finalize Analysis and Conclusions | Turn in Final Project |"
   ]
  }
 ],
 "metadata": {
  "kernelspec": {
   "display_name": "Python 3 (ipykernel)",
   "language": "python",
   "name": "python3"
  },
  "language_info": {
   "codemirror_mode": {
    "name": "ipython",
    "version": 3
   },
   "file_extension": ".py",
   "mimetype": "text/x-python",
   "name": "python",
   "nbconvert_exporter": "python",
   "pygments_lexer": "ipython3",
   "version": "3.9.7"
  }
 },
 "nbformat": 4,
 "nbformat_minor": 2
}
