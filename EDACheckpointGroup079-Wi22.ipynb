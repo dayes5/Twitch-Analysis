{
 "cells": [
  {
   "cell_type": "markdown",
   "metadata": {},
   "source": [
    "# COGS 108 - EDA Checkpoint"
   ]
  },
  {
   "cell_type": "markdown",
   "metadata": {},
   "source": [
    "# Names\n",
    "\n",
    "- Arushri Girish\n",
    "- Ronaldo Garcia-hernandez\n",
    "- Matthew Bernard\n",
    "- Daisy Ye\n",
    "- Jocelyn Quiroz"
   ]
  },
  {
   "cell_type": "markdown",
   "metadata": {},
   "source": [
    "<a id='research_question'></a>\n",
    "# Research Question"
   ]
  },
  {
   "cell_type": "markdown",
   "metadata": {},
   "source": [
    "Was there a significant correlation between the stream time and 1) the number of views and 2) followers which a streamer gained before and during the pandemic?"
   ]
  },
  {
   "cell_type": "markdown",
   "metadata": {},
   "source": [
    "# Setup"
   ]
  },
  {
   "cell_type": "code",
   "execution_count": 1,
   "metadata": {},
   "outputs": [],
   "source": [
    "# import\n",
    "import numpy as np\n",
    "import pandas as pd\n",
    "import matplotlib.pyplot as plt\n",
    "import seaborn as sns\n",
    "import patsy\n",
    "import statsmodels.api as sm\n",
    "import scipy.stats as stats\n",
    "from scipy.stats import ttest_ind, chisquare, normaltest\n",
    "\n",
    "\n",
    "# read the dataset from absolute path from local storage\n",
    "january2019Data = pd.read_csv('/Users/ronaldog/Documents/twitch2019/january2019Data.csv')\n",
    "february2019Data = pd.read_csv('/Users/ronaldog/Documents/twitch2019/february2019Data.csv')\n",
    "march2019Data = pd.read_csv('/Users/ronaldog/Documents/twitch2019/march2019Data.csv')\n",
    "april2019Data = pd.read_csv('/Users/ronaldog/Documents/twitch2019/april2019Data.csv')\n",
    "may2019Data = pd.read_csv('/Users/ronaldog/Documents/twitch2019/may2019Data.csv')\n",
    "june2019Data = pd.read_csv('/Users/ronaldog/Documents/twitch2019/june2019Data.csv')\n",
    "july2019Data = pd.read_csv('/Users/ronaldog/Documents/twitch2019/july2019Data.csv')\n",
    "august2019Data = pd.read_csv('/Users/ronaldog/Documents/twitch2019/august2019Data.csv')\n",
    "september2019Data = pd.read_csv('/Users/ronaldog/Documents/twitch2019/september2019Data.csv')\n",
    "october2019Data = pd.read_csv('/Users/ronaldog/Documents/twitch2019/october2019Data.csv')\n",
    "november2019Data = pd.read_csv('/Users/ronaldog/Documents/twitch2019/november2019Data.csv')\n",
    "december2019Data = pd.read_csv('/Users/ronaldog/Documents/twitch2019/december2019Data.csv')\n",
    "january2020Data = pd.read_csv('/Users/ronaldog/Documents/twitch2020/january2020Data.csv')\n",
    "february2020Data = pd.read_csv('/Users/ronaldog/Documents/twitch2020/february2020.csv')\n",
    "march2020Data = pd.read_csv('/Users/ronaldog/Documents/twitch2020/march2020Data.csv')\n",
    "april2020Data = pd.read_csv('/Users/ronaldog/Documents/twitch2020/april2020Data.csv')\n",
    "may2020Data = pd.read_csv('/Users/ronaldog/Documents/twitch2020/may2020Data.csv')\n",
    "june2020Data = pd.read_csv('/Users/ronaldog/Documents/twitch2020/june2020Data.csv')\n",
    "july2020Data = pd.read_csv('/Users/ronaldog/Documents/twitch2020/july2020Data.csv')\n",
    "august2020Data = pd.read_csv('/Users/ronaldog/Documents/twitch2020/august2020Data.csv')\n",
    "september2020Data = pd.read_csv('/Users/ronaldog/Documents/twitch2020/september2020Data.csv')\n",
    "october2020Data = pd.read_csv('/Users/ronaldog/Documents/twitch2020/october2020Data.csv')\n",
    "november2020Data = pd.read_csv('/Users/ronaldog/Documents/twitch2020/november2020Data.csv')\n",
    "december2020Data = pd.read_csv('/Users/ronaldog/Documents/twitch2020/december2020Data.csv')\n",
    "\n",
    "\n",
    "# creating a list with the above datasets, to create a new dataframe\n",
    "twitch2019And2020Data = [january2019Data, \n",
    "                         february2019Data, \n",
    "                         march2019Data, \n",
    "                         april2019Data, \n",
    "                         may2019Data, \n",
    "                         june2019Data, \n",
    "                         july2019Data,\n",
    "                         august2019Data, \n",
    "                         september2019Data, \n",
    "                         october2019Data, \n",
    "                         november2019Data,\n",
    "                         december2019Data,\n",
    "                         january2020Data, \n",
    "                         february2020Data, \n",
    "                         march2020Data, \n",
    "                         april2020Data, \n",
    "                         may2020Data, \n",
    "                         june2020Data, \n",
    "                         july2020Data,\n",
    "                         august2020Data, \n",
    "                         september2020Data, \n",
    "                         october2020Data, \n",
    "                         november2020Data, \n",
    "                         december2020Data]"
   ]
  },
  {
   "cell_type": "markdown",
   "metadata": {},
   "source": [
    "# Data Cleaning"
   ]
  },
  {
   "cell_type": "markdown",
   "metadata": {},
   "source": [
    "Describe your data cleaning steps here."
   ]
  },
  {
   "cell_type": "code",
   "execution_count": 2,
   "metadata": {},
   "outputs": [],
   "source": [
    "# drop columns that are non numerical and not necessary for our project\n",
    "for i in range(len(twitch2019And2020Data)):\n",
    "    \n",
    "    twitch2019And2020Data[i] = twitch2019And2020Data[i].loc[:, ~twitch2019And2020Data[i].columns.str.contains('^Unnamed')]\n",
    "    twitch2019And2020Data[i] = twitch2019And2020Data[i].drop(columns=['Partnered', 'Channel', 'Mature', 'Language', 'Peak viewers'])"
   ]
  },
  {
   "cell_type": "code",
   "execution_count": null,
   "metadata": {},
   "outputs": [],
   "source": []
  },
  {
   "cell_type": "code",
   "execution_count": 3,
   "metadata": {},
   "outputs": [],
   "source": [
    "for i in range(len(twitch2019And2020Data)):\n",
    "    twitch2019And2020Data[i]['Followers gained'] = twitch2019And2020Data[i]['Followers gained']/twitch2019And2020Data[i]['Followers']*100\n",
    "    twitch2019And2020Data[i] = twitch2019And2020Data[i].rename(columns={\"Followers gained\": \"Followers gained percent\"})"
   ]
  },
  {
   "cell_type": "code",
   "execution_count": null,
   "metadata": {},
   "outputs": [],
   "source": []
  },
  {
   "cell_type": "code",
   "execution_count": 4,
   "metadata": {},
   "outputs": [],
   "source": [
    "# calculate mean of each dataset and input into new data frame\n",
    "meanOfTwitchData= []\n",
    "for i in range(len(twitch2019And2020Data)):\n",
    "    meanOfTwitchData.append(twitch2019And2020Data[i].mean())           "
   ]
  },
  {
   "cell_type": "code",
   "execution_count": 5,
   "metadata": {},
   "outputs": [],
   "source": [
    "df = pd.DataFrame(data=meanOfTwitchData)  "
   ]
  },
  {
   "cell_type": "markdown",
   "metadata": {},
   "source": [
    "# Data Analysis & Results (EDA)"
   ]
  },
  {
   "cell_type": "markdown",
   "metadata": {},
   "source": [
    "Carry out EDA on your dataset(s); Describe in this section"
   ]
  },
  {
   "cell_type": "code",
   "execution_count": 6,
   "metadata": {},
   "outputs": [
    {
     "data": {
      "text/plain": [
       "<AxesSubplot:>"
      ]
     },
     "execution_count": 6,
     "metadata": {},
     "output_type": "execute_result"
    },
    {
     "data": {
      "image/png": "[encoded data removed]",
      "text/plain": [
       "<Figure size 432x288 with 1 Axes>"
      ]
     },
     "metadata": {
      "needs_background": "light"
     },
     "output_type": "display_data"
    }
   ],
   "source": [
    "df['Watch time'].plot(kind='bar')"
   ]
  },
  {
   "cell_type": "code",
   "execution_count": 7,
   "metadata": {},
   "outputs": [
    {
     "data": {
      "text/plain": [
       "<AxesSubplot:>"
      ]
     },
     "execution_count": 7,
     "metadata": {},
     "output_type": "execute_result"
    },
    {
     "data": {
      "image/png": "[encoded data removed]",
      "text/plain": [
       "<Figure size 432x288 with 1 Axes>"
      ]
     },
     "metadata": {
      "needs_background": "light"
     },
     "output_type": "display_data"
    }
   ],
   "source": [
    "df['Stream time'].plot(kind='bar')"
   ]
  },
  {
   "cell_type": "code",
   "execution_count": 10,
   "metadata": {},
   "outputs": [
    {
     "data": {
      "text/plain": [
       "<AxesSubplot:>"
      ]
     },
     "execution_count": 10,
     "metadata": {},
     "output_type": "execute_result"
    },
    {
     "data": {
      "image/png": "[encoded data removed]",
      "text/plain": [
       "<Figure size 432x288 with 1 Axes>"
      ]
     },
     "metadata": {
      "needs_background": "light"
     },
     "output_type": "display_data"
    }
   ],
   "source": [
    "df['Followers gained percent'].plot(kind='bar')"
   ]
  },
  {
   "cell_type": "code",
   "execution_count": 12,
   "metadata": {},
   "outputs": [
    {
     "data": {
      "text/plain": [
       "<AxesSubplot:>"
      ]
     },
     "execution_count": 12,
     "metadata": {},
     "output_type": "execute_result"
    },
    {
     "data": {
      "image/png": "[encoded data removed]",
      "text/plain": [
       "<Figure size 432x288 with 1 Axes>"
      ]
     },
     "metadata": {
      "needs_background": "light"
     },
     "output_type": "display_data"
    }
   ],
   "source": [
    "df['Views gained'].plot(kind='bar')"
   ]
  },
  {
   "cell_type": "code",
   "execution_count": 13,
   "metadata": {},
   "outputs": [
    {
     "data": {
      "text/plain": [
       "<seaborn.axisgrid.FacetGrid at 0x7fba7f595790>"
      ]
     },
     "execution_count": 13,
     "metadata": {},
     "output_type": "execute_result"
    },
    {
     "data": {
      "image/png": "[encoded data removed]",
      "text/plain": [
       "<Figure size 720x360 with 1 Axes>"
      ]
     },
     "metadata": {
      "needs_background": "light"
     },
     "output_type": "display_data"
    }
   ],
   "source": [
    "sns.lmplot(x=\"Stream time\", y=\"Views gained\", data=df, aspect=2)"
   ]
  },
  {
   "cell_type": "code",
   "execution_count": 14,
   "metadata": {},
   "outputs": [
    {
     "data": {
      "text/plain": [
       "<seaborn.axisgrid.FacetGrid at 0x7fba7f6acee0>"
      ]
     },
     "execution_count": 14,
     "metadata": {},
     "output_type": "execute_result"
    },
    {
     "data": {
      "image/png": "[encoded data removed]",
      "text/plain": [
       "<Figure size 720x360 with 1 Axes>"
      ]
     },
     "metadata": {
      "needs_background": "light"
     },
     "output_type": "display_data"
    }
   ],
   "source": [
    "sns.lmplot(x=\"Stream time\", y=\"Followers gained percent\", data=df, aspect=2)"
   ]
  },
  {
   "cell_type": "code",
   "execution_count": null,
   "metadata": {},
   "outputs": [],
   "source": [
    "sns.lmplot(x=\"Watch time\", y=\"Followers gained\", data=df, aspect=2)"
   ]
  },
  {
   "cell_type": "code",
   "execution_count": null,
   "metadata": {},
   "outputs": [],
   "source": [
    "sns.lmplot(x=\"Watch time\", y=\"Views gained\", data=df, aspect=2)"
   ]
  },
  {
   "cell_type": "code",
   "execution_count": null,
   "metadata": {},
   "outputs": [],
   "source": [
    "sns.heatmap(df.loc[:, ['Stream time', 'Watch time', 'Followers gained', 'Average viewers', 'Views gained']].corr(), annot=True, vmin=-1, vmax=1)"
   ]
  },
  {
   "cell_type": "code",
   "execution_count": null,
   "metadata": {},
   "outputs": [],
   "source": []
  }
 ],
 "metadata": {
  "kernelspec": {
   "display_name": "Python 3 (ipykernel)",
   "language": "python",
   "name": "python3"
  },
  "language_info": {
   "codemirror_mode": {
    "name": "ipython",
    "version": 3
   },
   "file_extension": ".py",
   "mimetype": "text/x-python",
   "name": "python",
   "nbconvert_exporter": "python",
   "pygments_lexer": "ipython3",
   "version": "3.9.7"
  }
 },
 "nbformat": 4,
 "nbformat_minor": 2
}
