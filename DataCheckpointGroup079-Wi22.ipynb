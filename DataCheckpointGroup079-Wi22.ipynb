{
 "cells": [
  {
   "cell_type": "markdown",
   "metadata": {},
   "source": [
    "# COGS 108 - Data Checkpoint"
   ]
  },
  {
   "cell_type": "markdown",
   "metadata": {},
   "source": [
    "# Names\n",
    "\n",
    "- Arushri Girish\n",
    "- Ronaldo Garcia-hernandez\n",
    "- Matthew Bernard\n",
    "- Daisy Ye\n",
    "- Jocelyn Quiroz"
   ]
  },
  {
   "cell_type": "markdown",
   "metadata": {},
   "source": [
    "<a id='research_question'></a>\n",
    "# Research Question"
   ]
  },
  {
   "cell_type": "markdown",
   "metadata": {},
   "source": [
    "Was there a significant correlation between the stream time and 1) the number of views and 2) followers which a streamer gained before and during the pandemic?"
   ]
  },
  {
   "cell_type": "markdown",
   "metadata": {},
   "source": [
    "# Dataset(s)"
   ]
  },
  {
   "cell_type": "markdown",
   "metadata": {},
   "source": [
    "Before the pandemic:\n",
    "- Dataset Name: Most Watched Twitch Channels in 2019 \n",
    "- Link to the dataset:  https://sullygnome.com/channels/2019/watched \n",
    "- Number of observations: 50\n",
    "\n",
    "This dataset includes data of the 50 most watched streamers from 2019 including data about their watch and stream time, viewers, and followers.\n",
    "\n",
    "During the pandemic:\n",
    "- Dataset Name: Most Watched Twitch Channels in 2020\n",
    "- Link to the dataset: https://sullygnome.com/channels/2020/watched \n",
    "- Number of observations: 50\n",
    "\n",
    "This dataset includes data of the 50 most watched streamers from 2020 including data about their watch and stream time, viewers, and followers.\n",
    "\n",
    "We will compare both of these data sets to understand if there were any correlations between the stream time and the number of views, new followers, and type of subscriber, which a streamer gained in 2019 and 2020."
   ]
  },
  {
   "cell_type": "markdown",
   "metadata": {},
   "source": [
    "# Setup"
   ]
  },
  {
   "cell_type": "code",
   "execution_count": 1,
   "metadata": {},
   "outputs": [],
   "source": [
    "import pandas as pd\n",
    "# read the dataset from absolute path from local storage\n",
    "twitchChannelData2019 = pd.read_csv('/Users/ronaldog/Documents/TwitchChannelData/twitchStreamerData2019.csv')\n",
    "twitchChannelData2020 = pd.read_csv('/Users/ronaldog/Documents/TwitchChannelData/twitchStreamerData2020.csv')"
   ]
  },
  {
   "cell_type": "markdown",
   "metadata": {},
   "source": [
    "# Data Cleaning"
   ]
  },
  {
   "cell_type": "markdown",
   "metadata": {},
   "source": [
    "Describe your data cleaning steps here."
   ]
  },
  {
   "cell_type": "code",
   "execution_count": 2,
   "metadata": {},
   "outputs": [],
   "source": [
    "# Removing unnamed columns\n",
    "twitchChannelData2019 = twitchChannelData2019.loc[:, ~twitchChannelData2019.columns.str.contains('^Unnamed')]\n",
    "twitchChannelData2020 = twitchChannelData2020.loc[:, ~twitchChannelData2020.columns.str.contains('^Unnamed')]\n",
    "\n",
    "# Removing Partnered and Channel columns\n",
    "twitchChannelData2019 = twitchChannelData2019.drop(columns=['Partnered', 'Channel'])\n",
    "twitchChannelData2020 = twitchChannelData2020.drop(columns=['Partnered', 'Channel'])"
   ]
  },
  {
   "cell_type": "code",
   "execution_count": null,
   "metadata": {},
   "outputs": [],
   "source": []
  }
 ],
 "metadata": {
  "kernelspec": {
   "display_name": "Python 3 (ipykernel)",
   "language": "python",
   "name": "python3"
  },
  "language_info": {
   "codemirror_mode": {
    "name": "ipython",
    "version": 3
   },
   "file_extension": ".py",
   "mimetype": "text/x-python",
   "name": "python",
   "nbconvert_exporter": "python",
   "pygments_lexer": "ipython3",
   "version": "3.9.7"
  }
 },
 "nbformat": 4,
 "nbformat_minor": 2
}
